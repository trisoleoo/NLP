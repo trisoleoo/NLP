{
  "cells": [
    {
      "cell_type": "markdown",
      "metadata": {},
      "source": [
        "## Restaurant Review Analysis"
      ]
    },
    {
      "cell_type": "code",
      "execution_count": 4,
      "metadata": {
        "id": "3ktyO78J9EWs"
      },
      "outputs": [],
      "source": [
        "# Data processing\n",
        "import pandas as pd\n",
        "import warnings\n",
        "warnings.filterwarnings('ignore', category=DeprecationWarning)\n",
        "\n",
        "data = pd.read_excel('Sentiment Analysis and Segmentation.xlsx')\n",
        "\n",
        "# There are some symbols in the reviews we want to get rid of \n",
        "def clean(text):\n",
        "    return text.replace('Œæ', '')\n",
        "data['review'] = data['review'].apply(clean)"
      ]
    },
    {
      "cell_type": "markdown",
      "metadata": {},
      "source": [
        "### Traditional Approach: Sentiment Analysis + Topic Modeling"
      ]
    },
    {
      "cell_type": "code",
      "execution_count": 116,
      "metadata": {
        "id": "v3UvkkOhKA4w"
      },
      "outputs": [],
      "source": [
        "import nltk\n",
        "from nltk.corpus import stopwords\n",
        "from nltk.tokenize import word_tokenize\n",
        "from nltk.stem import WordNetLemmatizer\n",
        "import gensim\n",
        "from gensim import corpora\n",
        "from nltk.sentiment.vader import SentimentIntensityAnalyzer\n",
        "nltk.download('vader_lexicon')\n",
        "nltk.download('punkt')\n",
        "nltk.download('stopwords')\n",
        "nltk.download('wordnet')\n",
        "nltk.download('averaged_perceptron_tagger')"
      ]
    },
    {
      "cell_type": "code",
      "execution_count": null,
      "metadata": {},
      "outputs": [],
      "source": [
        "# Sentiment analysis using vader. Vader is fast to run and suited for informal texts such as reviews\n",
        "def get_compound_score(text):\n",
        "  sid = SentimentIntensityAnalyzer()\n",
        "  return sid.polarity_scores(text)['compound']\n",
        "\n",
        "# We want to focus only on the negative reviews so set compund score to less than 0\n",
        "data['sentiment'] = data['review'].apply(get_compound_score)\n",
        "negative_reviews = data[data['sentiment']<0]"
      ]
    },
    {
      "cell_type": "code",
      "execution_count": 117,
      "metadata": {
        "id": "yc2DrJSp1njG"
      },
      "outputs": [],
      "source": [
        "# Text processing \n",
        "wnl = WordNetLemmatizer()\n",
        "stop_words = set(stopwords.words('english'))\n",
        "\n",
        "\n",
        "def preprocess_text(text):\n",
        "    # tokenize\n",
        "    tokens = word_tokenize(text.lower())\n",
        "    # lemmatize and exclude numbers and stop words\n",
        "    lemmatized_tokens = [wnl.lemmatize(word) for word in tokens if word.isalpha() and word not in stop_words]\n",
        "    # only include verbs, nouns, adjectives, and adverbs for more accurate analysis\n",
        "    pos_tags = nltk.pos_tag(lemmatized_tokens) \n",
        "    filtered_tokens = [\n",
        "        word for word, tag in pos_tags\n",
        "        if tag.startswith('J') or tag.startswith('V') or tag.startswith('N') or tag.startswith('R')\n",
        "    ]\n",
        "    return filtered_tokens\n",
        "\n",
        "negative_reviews['processed_review'] = negative_reviews['review'].apply(preprocess_text)"
      ]
    },
    {
      "cell_type": "code",
      "execution_count": 118,
      "metadata": {
        "id": "IbJl-LJVMoSw"
      },
      "outputs": [],
      "source": [
        "# Bigrams and trigrams so that we include phrases\n",
        "data_words = negative_reviews['processed_review']\n",
        "# Bigram and trigrams phrases\n",
        "bigram_phrases = gensim.models.Phrases(data_words, min_count=5, threshold=100)\n",
        "trigram_phrases = gensim.models.Phrases(bigram_phrases[data_words], threshold=100)\n",
        "# Change phrases to phraser for better processing\n",
        "bigram = gensim.models.phrases.Phraser(bigram_phrases)\n",
        "trigram = gensim.models.phrases.Phraser(trigram_phrases)\n",
        "\n",
        "# Make bigrams and trigrams for the reviews\n",
        "def make_bigrams(texts):\n",
        "    return([bigram[doc] for doc in texts])\n",
        "def make_trigrams(texts):\n",
        "    return ([trigram[bigram[doc]] for doc in texts])\n",
        "data_bigrams = make_bigrams(data_words)\n",
        "data_bigrams_trigrams = make_trigrams(data_bigrams)\n",
        "\n",
        "negative_reviews['trigrams'] = data_bigrams_trigrams"
      ]
    },
    {
      "cell_type": "code",
      "execution_count": 121,
      "metadata": {
        "id": "H-XnREvo9WL5"
      },
      "outputs": [],
      "source": [
        "# Dictionary \n",
        "dictionary = corpora.Dictionary(negative_reviews['trigrams'])\n",
        "\n",
        "# Filter out words that occur in less than 5 reviews or more than 50% of the reviews\n",
        "dictionary.filter_extremes(no_below=5, no_above=0.5)\n",
        "\n",
        "# Convert the dictionary to a bag of words corpus for each document\n",
        "corpus = [dictionary.doc2bow(review) for review in negative_reviews['trigrams']]"
      ]
    },
    {
      "cell_type": "code",
      "execution_count": 129,
      "metadata": {
        "id": "RNhKIrKhPYh4"
      },
      "outputs": [],
      "source": [
        "# Use coherence analysis to find out how many topics are there \n",
        "from gensim.models import LdaModel\n",
        "from gensim.corpora import Dictionary\n",
        "from gensim.models import CoherenceModel\n",
        "\n",
        "# Coherence score for each model\n",
        "def compute_coherence(model, corpus, dictionary):\n",
        "    coherence_model = CoherenceModel(model=model, texts=negative_reviews['trigrams'], dictionary=dictionary, coherence='c_v')\n",
        "    return coherence_model.get_coherence()\n",
        "\n",
        "# Test from 2 to 20 topics \n",
        "coherences = []\n",
        "for num_topics in range(2, 21): \n",
        "    lda_model = LdaModel(corpus, num_topics=num_topics, id2word=dictionary, passes=15)\n",
        "    coherences.append((num_topics, compute_coherence(lda_model, corpus, dictionary)))\n",
        "\n",
        "topics = pd.DataFrame(coherences,columns = ['topic','score'])"
      ]
    },
    {
      "cell_type": "code",
      "execution_count": 136,
      "metadata": {
        "colab": {
          "base_uri": "https://localhost:8080/",
          "height": 81
        },
        "id": "sh1QEYnpSWTW",
        "outputId": "9f8d1d55-895a-4028-a375-fb735b00368e"
      },
      "outputs": [
        {
          "data": {
            "application/vnd.google.colaboratory.intrinsic+json": {
              "summary": "{\n  \"name\": \"topics[topics['score'] == topics['score']\",\n  \"rows\": 1,\n  \"fields\": [\n    {\n      \"column\": \"topic\",\n      \"properties\": {\n        \"dtype\": \"number\",\n        \"std\": null,\n        \"min\": 4,\n        \"max\": 4,\n        \"num_unique_values\": 1,\n        \"samples\": [\n          4\n        ],\n        \"semantic_type\": \"\",\n        \"description\": \"\"\n      }\n    },\n    {\n      \"column\": \"score\",\n      \"properties\": {\n        \"dtype\": \"number\",\n        \"std\": null,\n        \"min\": 0.4100305461724049,\n        \"max\": 0.4100305461724049,\n        \"num_unique_values\": 1,\n        \"samples\": [\n          0.4100305461724049\n        ],\n        \"semantic_type\": \"\",\n        \"description\": \"\"\n      }\n    }\n  ]\n}",
              "type": "dataframe"
            },
            "text/html": [
              "\n",
              "  <div id=\"df-ba169313-97cf-488f-b9ad-52c76e8eae2f\" class=\"colab-df-container\">\n",
              "    <div>\n",
              "<style scoped>\n",
              "    .dataframe tbody tr th:only-of-type {\n",
              "        vertical-align: middle;\n",
              "    }\n",
              "\n",
              "    .dataframe tbody tr th {\n",
              "        vertical-align: top;\n",
              "    }\n",
              "\n",
              "    .dataframe thead th {\n",
              "        text-align: right;\n",
              "    }\n",
              "</style>\n",
              "<table border=\"1\" class=\"dataframe\">\n",
              "  <thead>\n",
              "    <tr style=\"text-align: right;\">\n",
              "      <th></th>\n",
              "      <th>topic</th>\n",
              "      <th>score</th>\n",
              "    </tr>\n",
              "  </thead>\n",
              "  <tbody>\n",
              "    <tr>\n",
              "      <th>2</th>\n",
              "      <td>4</td>\n",
              "      <td>0.410031</td>\n",
              "    </tr>\n",
              "  </tbody>\n",
              "</table>\n",
              "</div>\n",
              "    <div class=\"colab-df-buttons\">\n",
              "\n",
              "  <div class=\"colab-df-container\">\n",
              "    <button class=\"colab-df-convert\" onclick=\"convertToInteractive('df-ba169313-97cf-488f-b9ad-52c76e8eae2f')\"\n",
              "            title=\"Convert this dataframe to an interactive table.\"\n",
              "            style=\"display:none;\">\n",
              "\n",
              "  <svg xmlns=\"http://www.w3.org/2000/svg\" height=\"24px\" viewBox=\"0 -960 960 960\">\n",
              "    <path d=\"M120-120v-720h720v720H120Zm60-500h600v-160H180v160Zm220 220h160v-160H400v160Zm0 220h160v-160H400v160ZM180-400h160v-160H180v160Zm440 0h160v-160H620v160ZM180-180h160v-160H180v160Zm440 0h160v-160H620v160Z\"/>\n",
              "  </svg>\n",
              "    </button>\n",
              "\n",
              "  <style>\n",
              "    .colab-df-container {\n",
              "      display:flex;\n",
              "      gap: 12px;\n",
              "    }\n",
              "\n",
              "    .colab-df-convert {\n",
              "      background-color: #E8F0FE;\n",
              "      border: none;\n",
              "      border-radius: 50%;\n",
              "      cursor: pointer;\n",
              "      display: none;\n",
              "      fill: #1967D2;\n",
              "      height: 32px;\n",
              "      padding: 0 0 0 0;\n",
              "      width: 32px;\n",
              "    }\n",
              "\n",
              "    .colab-df-convert:hover {\n",
              "      background-color: #E2EBFA;\n",
              "      box-shadow: 0px 1px 2px rgba(60, 64, 67, 0.3), 0px 1px 3px 1px rgba(60, 64, 67, 0.15);\n",
              "      fill: #174EA6;\n",
              "    }\n",
              "\n",
              "    .colab-df-buttons div {\n",
              "      margin-bottom: 4px;\n",
              "    }\n",
              "\n",
              "    [theme=dark] .colab-df-convert {\n",
              "      background-color: #3B4455;\n",
              "      fill: #D2E3FC;\n",
              "    }\n",
              "\n",
              "    [theme=dark] .colab-df-convert:hover {\n",
              "      background-color: #434B5C;\n",
              "      box-shadow: 0px 1px 3px 1px rgba(0, 0, 0, 0.15);\n",
              "      filter: drop-shadow(0px 1px 2px rgba(0, 0, 0, 0.3));\n",
              "      fill: #FFFFFF;\n",
              "    }\n",
              "  </style>\n",
              "\n",
              "    <script>\n",
              "      const buttonEl =\n",
              "        document.querySelector('#df-ba169313-97cf-488f-b9ad-52c76e8eae2f button.colab-df-convert');\n",
              "      buttonEl.style.display =\n",
              "        google.colab.kernel.accessAllowed ? 'block' : 'none';\n",
              "\n",
              "      async function convertToInteractive(key) {\n",
              "        const element = document.querySelector('#df-ba169313-97cf-488f-b9ad-52c76e8eae2f');\n",
              "        const dataTable =\n",
              "          await google.colab.kernel.invokeFunction('convertToInteractive',\n",
              "                                                    [key], {});\n",
              "        if (!dataTable) return;\n",
              "\n",
              "        const docLinkHtml = 'Like what you see? Visit the ' +\n",
              "          '<a target=\"_blank\" href=https://colab.research.google.com/notebooks/data_table.ipynb>data table notebook</a>'\n",
              "          + ' to learn more about interactive tables.';\n",
              "        element.innerHTML = '';\n",
              "        dataTable['output_type'] = 'display_data';\n",
              "        await google.colab.output.renderOutput(dataTable, element);\n",
              "        const docLink = document.createElement('div');\n",
              "        docLink.innerHTML = docLinkHtml;\n",
              "        element.appendChild(docLink);\n",
              "      }\n",
              "    </script>\n",
              "  </div>\n",
              "\n",
              "\n",
              "    </div>\n",
              "  </div>\n"
            ],
            "text/plain": [
              "   topic     score\n",
              "2      4  0.410031"
            ]
          },
          "execution_count": 136,
          "metadata": {},
          "output_type": "execute_result"
        }
      ],
      "source": [
        "# We have 4 topics in the negative reviews\n",
        "topics[topics['score'] == topics['score'].max()]"
      ]
    },
    {
      "cell_type": "code",
      "execution_count": 138,
      "metadata": {
        "colab": {
          "base_uri": "https://localhost:8080/"
        },
        "id": "e6Gc0ddg9eCN",
        "outputId": "b6ce9847-679b-4119-f3e9-28b96dfe6a0f"
      },
      "outputs": [
        {
          "name": "stdout",
          "output_type": "stream",
          "text": [
            "(0, '0.018*\"go\" + 0.017*\"mcdonald\" + 0.016*\"food\" + 0.015*\"location\" + 0.015*\"time\" + 0.012*\"get\" + 0.012*\"mcdonalds\" + 0.011*\"order\" + 0.010*\"always\" + 0.009*\"place\"')\n",
            "(1, '0.021*\"food\" + 0.020*\"mcdonald\" + 0.017*\"mcdonalds\" + 0.014*\"time\" + 0.013*\"service\" + 0.012*\"place\" + 0.010*\"go\" + 0.010*\"always\" + 0.010*\"people\" + 0.009*\"drive\"')\n",
            "(2, '0.026*\"order\" + 0.021*\"time\" + 0.018*\"drive\" + 0.016*\"get\" + 0.016*\"go\" + 0.013*\"mcdonalds\" + 0.012*\"thru\" + 0.011*\"never\" + 0.011*\"ever\" + 0.011*\"place\"')\n",
            "(3, '0.034*\"order\" + 0.020*\"get\" + 0.017*\"food\" + 0.014*\"time\" + 0.011*\"minute\" + 0.010*\"window\" + 0.010*\"drive\" + 0.010*\"customer\" + 0.010*\"service\" + 0.009*\"ordered\"')\n"
          ]
        }
      ],
      "source": [
        "# Train the LDA model\n",
        "lda_model = gensim.models.LdaModel(corpus,num_topics=4,id2word=dictionary,passes=15)\n",
        "\n",
        "# Print the topics and the top words associated with them\n",
        "topics = lda_model.print_topics(num_words=10)\n",
        "for topic in topics:\n",
        "    print(topic)"
      ]
    },
    {
      "cell_type": "code",
      "execution_count": 139,
      "metadata": {
        "id": "Q6LKB7pS92sV"
      },
      "outputs": [],
      "source": [
        "# Get the topic distribution for each review\n",
        "negative_reviews['topics'] = [lda_model[corpus[i]] for i in range(len(corpus))]\n",
        "\n",
        "# Assign the dominant topic to each review\n",
        "def dominant_topic(topics):\n",
        "    return max(topics, key=lambda x: x[1])[0]\n",
        "\n",
        "negative_reviews['dominant_topic'] = negative_reviews['topics'].apply(dominant_topic)"
      ]
    },
    {
      "cell_type": "code",
      "execution_count": 144,
      "metadata": {
        "colab": {
          "base_uri": "https://localhost:8080/",
          "height": 241
        },
        "id": "sPBZcMQ3UrEc",
        "outputId": "f724bbf2-2a20-4200-d3d1-fd394897020a"
      },
      "outputs": [
        {
          "data": {
            "text/html": [
              "<div>\n",
              "<style scoped>\n",
              "    .dataframe tbody tr th:only-of-type {\n",
              "        vertical-align: middle;\n",
              "    }\n",
              "\n",
              "    .dataframe tbody tr th {\n",
              "        vertical-align: top;\n",
              "    }\n",
              "\n",
              "    .dataframe thead th {\n",
              "        text-align: right;\n",
              "    }\n",
              "</style>\n",
              "<table border=\"1\" class=\"dataframe\">\n",
              "  <thead>\n",
              "    <tr style=\"text-align: right;\">\n",
              "      <th></th>\n",
              "      <th>count</th>\n",
              "    </tr>\n",
              "    <tr>\n",
              "      <th>dominant_topic</th>\n",
              "      <th></th>\n",
              "    </tr>\n",
              "  </thead>\n",
              "  <tbody>\n",
              "    <tr>\n",
              "      <th>3</th>\n",
              "      <td>273</td>\n",
              "    </tr>\n",
              "    <tr>\n",
              "      <th>1</th>\n",
              "      <td>208</td>\n",
              "    </tr>\n",
              "    <tr>\n",
              "      <th>2</th>\n",
              "      <td>153</td>\n",
              "    </tr>\n",
              "    <tr>\n",
              "      <th>0</th>\n",
              "      <td>153</td>\n",
              "    </tr>\n",
              "  </tbody>\n",
              "</table>\n",
              "</div><br><label><b>dtype:</b> int64</label>"
            ],
            "text/plain": [
              "dominant_topic\n",
              "3    273\n",
              "1    208\n",
              "2    153\n",
              "0    153\n",
              "Name: count, dtype: int64"
            ]
          },
          "execution_count": 144,
          "metadata": {},
          "output_type": "execute_result"
        }
      ],
      "source": [
        "# Check the overal distribution of the topics\n",
        "negative_reviews['dominant_topic'].value_counts()"
      ]
    },
    {
      "cell_type": "code",
      "execution_count": 152,
      "metadata": {
        "colab": {
          "base_uri": "https://localhost:8080/",
          "height": 861
        },
        "id": "2px5rl7q9RNj",
        "outputId": "e0a6bd5b-ca74-4cae-e3d1-8a284faf5e8d"
      },
      "outputs": [
        {
          "data": {
            "text/html": [
              "\n",
              "<link rel=\"stylesheet\" type=\"text/css\" href=\"https://cdn.jsdelivr.net/gh/bmabey/pyLDAvis@3.4.0/pyLDAvis/js/ldavis.v1.0.0.css\">\n",
              "\n",
              "\n",
              "<div id=\"ldavis_el19201324562028548969000154594\" style=\"background-color:white;\"></div>\n",
              "<script type=\"text/javascript\">\n",
              "\n",
              "var ldavis_el19201324562028548969000154594_data = {\"mdsDat\": {\"x\": [-0.06447058089146655, -0.054384397513977764, 0.046036897869927706, 0.0728180805355166], \"y\": [-0.05216142062323972, 0.07206503852224516, -0.07828178627310602, 0.058378168374100585], \"topics\": [1, 2, 3, 4], \"cluster\": [1, 1, 1, 1], \"Freq\": [41.52337230022965, 21.881278764166005, 18.75908470266634, 17.836264232938]}, \"tinfo\": {\"Term\": [\"order\", \"mcdonald\", \"go\", \"always\", \"location\", \"mcdonalds\", \"burger\", \"mcd\", \"drive\", \"window\", \"time\", \"thru\", \"food\", \"make\", \"machine\", \"hot\", \"old\", \"never\", \"place\", \"open\", \"really\", \"line\", \"want\", \"missing\", \"crap\", \"ever\", \"people\", \"hour\", \"floor\", \"right\", \"pulled\", \"diet\", \"prepared\", \"melted\", \"milk\", \"shift\", \"mocha\", \"bothered\", \"lane\", \"complained\", \"large\", \"placed\", \"acted\", \"hardly\", \"salt\", \"sort\", \"risk\", \"website\", \"payment\", \"lying\", \"receipt\", \"syrup\", \"showed\", \"putting\", \"male\", \"frustrated\", \"handed\", \"cover\", \"using\", \"learned\", \"iced\", \"coke\", \"pull\", \"refund\", \"paid\", \"straw\", \"window\", \"finally\", \"employee\", \"told\", \"asked\", \"minute\", \"order\", \"waiting\", \"wrong\", \"person\", \"said\", \"first\", \"cashier\", \"waited\", \"ordered\", \"car\", \"get\", \"manager\", \"wait\", \"customer\", \"drink\", \"got\", \"took\", \"food\", \"back\", \"went\", \"time\", \"u\", \"drive\", \"thru\", \"service\", \"coffee\", \"even\", \"line\", \"place\", \"mcdonald\", \"go\", \"mcdonalds\", \"ever\", \"location\", \"light\", \"visited\", \"fired\", \"love\", \"answer\", \"inconvenient\", \"slowly\", \"god\", \"parking\", \"nightmare\", \"crowded\", \"everywhere\", \"denied\", \"often\", \"supposed\", \"reasonable\", \"travel\", \"recently\", \"shitty\", \"branch\", \"alone\", \"nearly\", \"card\", \"several\", \"cheeseburger\", \"chicken_sandwich\", \"bought\", \"local\", \"smart\", \"square\", \"cause\", \"packet\", \"hour\", \"open\", \"big_mac\", \"closed\", \"many\", \"lot\", \"park\", \"night\", \"mcdonald\", \"reason\", \"stop\", \"mcdonalds\", \"always\", \"food\", \"close\", \"fast\", \"grab\", \"people\", \"really\", \"service\", \"place\", \"customer\", \"time\", \"fry\", \"rude\", \"worst\", \"restaurant\", \"even\", \"go\", \"ever\", \"drive\", \"long\", \"location\", \"bad\", \"never\", \"come\", \"get\", \"manager\", \"staff\", \"give\", \"line\", \"thru\", \"costumer\", \"cant\", \"greasy\", \"orange\", \"somewhere\", \"english\", \"barely\", \"wont\", \"hamburger\", \"juice\", \"rock\", \"mcflurry\", \"yeah\", \"easy\", \"filet\", \"hair\", \"bitch\", \"please\", \"individual\", \"credit_card\", \"calling\", \"bun\", \"tea\", \"badly\", \"lobby\", \"post\", \"stomach\", \"done\", \"faster\", \"husband\", \"hard\", \"burger\", \"damn\", \"job\", \"make\", \"away\", \"guy\", \"check\", \"drive\", \"thru\", \"never\", \"time\", \"order\", \"go\", \"ever\", \"right\", \"soda\", \"girl\", \"get\", \"mcdonalds\", \"worst\", \"fry\", \"place\", \"service\", \"sure\", \"bag\", \"people\", \"always\", \"terrible\", \"got\", \"give\", \"home\", \"want\", \"really\", \"window\", \"went\", \"food\", \"mcdonald\", \"know\", \"bad\", \"mcchicken\", \"restroom\", \"crap\", \"exit\", \"failed\", \"everytime\", \"dead\", \"consistent\", \"station\", \"floor\", \"cleaning\", \"mayo\", \"cook\", \"somebody\", \"flavor\", \"machine\", \"macdonalds\", \"sell\", \"spanish\", \"afternoon\", \"system\", \"somehow\", \"trip\", \"mustard\", \"city\", \"consistently\", \"red\", \"chocolate\", \"paper\", \"mcd\", \"shake\", \"real\", \"best\", \"old\", \"quickly\", \"bathroom\", \"table\", \"missing\", \"stopped\", \"location\", \"hot\", \"use\", \"area\", \"enough\", \"go\", \"always\", \"mcdonald\", \"big\", \"want\", \"sandwich\", \"think\", \"coffee\", \"food\", \"line\", \"time\", \"mcdonalds\", \"review\", \"thing\", \"place\", \"get\", \"back\", \"order\", \"way\", \"people\", \"service\", \"staff\", \"know\", \"really\", \"got\", \"right\"], \"Freq\": [595.0, 324.0, 315.0, 157.0, 195.0, 299.0, 101.0, 58.0, 285.0, 156.0, 435.0, 190.0, 436.0, 108.0, 40.0, 61.0, 45.0, 177.0, 257.0, 58.0, 105.0, 143.0, 99.0, 43.0, 22.0, 189.0, 185.0, 56.0, 26.0, 135.0, 31.623589905822048, 10.835878977079807, 8.977259257418178, 8.960014774576413, 8.957877205815446, 8.94907186854235, 16.881579498671424, 7.9562257396287, 24.70102962414903, 8.795527084365116, 49.80555296693574, 16.557161765641457, 6.083389480597232, 6.922893670098625, 5.9987041343104845, 8.535392397102248, 5.102616297200427, 5.949244153844147, 5.0987297781143655, 5.0965158915210305, 36.906291517587604, 12.573933257967122, 5.814256653116338, 5.81281196993871, 5.803406801281389, 4.961737930104897, 17.315706124094053, 4.9378333774797065, 6.58717955896889, 5.73225582005586, 20.429871340772557, 32.218054941411985, 24.95664080620743, 12.970388330205553, 23.87902497971863, 16.88514903097129, 119.92584178269723, 35.03371969315074, 93.78209449983072, 64.14911734365968, 81.90955693296614, 122.47013371162963, 389.5722320412341, 73.74084962838687, 96.42655826992849, 45.72227044211794, 77.1745415422771, 63.944307059771404, 51.981709095075516, 47.09541837154018, 99.89704341247602, 65.4548163761809, 232.9406620044117, 92.05811483392323, 66.3527264689024, 112.4083157133412, 55.95382465522963, 93.60214508456357, 56.6895981825405, 189.82514628974585, 93.10017190616601, 81.36459405348674, 166.14364257146968, 58.538144617784255, 117.19564496975433, 89.93487240289177, 112.23321850552144, 71.40549182410928, 76.38498134896838, 69.70252767919905, 82.43914377758745, 84.4220685098094, 79.22319065617044, 70.9519657412625, 68.22452172592219, 65.55496143915947, 13.406547295894027, 9.32434079311282, 5.891941134491984, 10.081427368620448, 4.956029018773755, 4.9420473759178325, 4.936503119890692, 6.4873538740256835, 12.102282584955454, 4.836907947530404, 4.720084165371347, 7.572361532981286, 4.485679539877727, 24.978765702429776, 10.04932811589014, 4.955289949266446, 4.952324851792018, 4.941833239788508, 6.3433104617735925, 4.905076967217636, 4.884294473783245, 4.879931670634375, 6.944220890663805, 17.202258707639775, 23.236393287559828, 12.822114412849812, 4.730946194073031, 8.747422782930029, 4.607684569699715, 3.9448584605430574, 11.533980114394375, 9.012659483268395, 35.67903025702081, 36.639130583129784, 19.143634494992174, 11.444657479018964, 22.98798408865278, 18.72291732587334, 14.143287058559878, 27.271742430799872, 122.5020768198216, 21.607506671231683, 24.102138250087535, 103.706312287752, 61.87644855199603, 129.1946951668623, 19.004367694257482, 40.74683868808012, 16.868000323652762, 61.28059836798067, 40.03365742741811, 76.7651057295114, 72.62544724406564, 53.41609165459445, 86.87647405623413, 44.19320129233306, 33.39638004064018, 47.54238631054247, 26.791005056575823, 43.63133066676351, 62.09996292656334, 46.49132011002942, 55.49401503133914, 31.51396330274719, 42.88133915852604, 34.887580300812516, 39.17784668795762, 32.731247117398425, 45.35417047997205, 32.923369911517845, 29.690181058730435, 30.395798763193543, 30.452934656942315, 30.187112345443023, 9.763311926448624, 7.824345385782218, 6.870953169263111, 8.436785338513488, 4.8475246254286155, 10.751118867678391, 10.708622323179362, 4.499465308156503, 11.144231260497772, 6.473553377397256, 5.71877032460778, 16.869382478522773, 5.607194514687683, 6.960983710188233, 5.477063364311937, 6.768826210994395, 4.006384476184848, 13.928123902810865, 3.9616583390101274, 5.90284600401325, 5.8055254329938695, 14.091676562711845, 12.215495496964452, 3.6998659908703644, 3.6867818022735404, 3.679255868450708, 4.891358865044924, 10.173130537420457, 6.009880969598995, 7.800684846687707, 22.771687718604372, 54.05001065998997, 7.593460357814321, 24.546044266760706, 49.413503129532565, 25.049252324823726, 24.621831061530866, 21.68240527632556, 90.95555452797502, 63.30838759210615, 59.23134208575608, 108.61253487281313, 133.2965235424162, 82.72971006938198, 56.40540897948587, 43.607813168810054, 16.58427044193222, 18.944079556271078, 84.18830645243665, 66.85253746347432, 45.305318331010874, 40.89893670242045, 55.61615978707053, 54.959940941366966, 23.235880929249557, 23.343278823648493, 39.230782803104944, 35.54565444401616, 20.11115699941969, 35.471786332905054, 30.358378244290005, 21.307969200232893, 25.887426740782384, 26.214515123906395, 29.690819082936986, 28.855644878500694, 38.325531883892666, 34.725933748445456, 26.177343954859563, 25.785644564886198, 9.775691802564074, 14.888091915357235, 20.189255043764643, 5.000560677369221, 4.8069545318435525, 11.064853502672035, 5.500077105063882, 5.397282664785047, 9.1959488502448, 20.55119057913293, 5.873053895394698, 14.646783154436358, 10.769349537165823, 5.732879188093792, 4.1869660383995235, 28.571192864343168, 4.057106490405863, 4.71123441996698, 7.382678365832229, 4.023306378198968, 5.937919974267707, 4.602754866379227, 7.26870118977407, 5.884643244740982, 6.495697742217308, 10.340582144746492, 3.848103953799121, 8.343176102654278, 4.4736878410097125, 38.979869841236955, 17.527371692850412, 10.697878719674742, 11.74378543494302, 26.19619925261841, 8.091526014226302, 15.541997846563548, 16.42867537916038, 24.012595828748175, 20.715303725610074, 74.37320327728476, 29.16689841857332, 20.507800828148802, 27.29304826393634, 14.813598239439075, 91.03090159131592, 50.63413472716769, 83.25529073848188, 15.462282033180038, 34.83783373929867, 22.907361490971567, 28.252950746102368, 38.96641651088569, 79.48639821320315, 39.78614946187826, 73.49650531839923, 57.557060251452484, 22.15948239090091, 28.297914039829354, 46.77262862916647, 57.95387828478865, 34.55869323801758, 53.06408500933727, 26.996920862635804, 31.832132449319396, 32.154202601367395, 25.09984024803181, 24.655332827181677, 23.978458693132172, 25.221348114395177, 23.396326095309757], \"Total\": [595.0, 324.0, 315.0, 157.0, 195.0, 299.0, 101.0, 58.0, 285.0, 156.0, 435.0, 190.0, 436.0, 108.0, 40.0, 61.0, 45.0, 177.0, 257.0, 58.0, 105.0, 143.0, 99.0, 43.0, 22.0, 189.0, 185.0, 56.0, 26.0, 135.0, 34.07402386838594, 11.679031003327879, 9.731154569035292, 9.731144638402593, 9.730978854822947, 9.730837584434127, 18.4874445921389, 8.756042057011577, 27.249842296916086, 9.727910573161218, 55.47197558621322, 18.471630317703028, 6.807848860081905, 7.7771015952892455, 6.8053408026527356, 9.722918124242957, 5.8325390290318255, 6.804907654496209, 5.832679018954084, 5.832148257494891, 42.77820895457857, 14.58661721214957, 6.803025365509846, 6.802351102198256, 6.80304275956947, 5.82821697501408, 20.417792045903884, 5.82563633991162, 7.774025191254185, 6.801348445236398, 24.285291899819143, 38.820622540317174, 30.07584674581592, 15.527661170282606, 29.158119656037893, 20.410666191569014, 156.33916746011542, 43.699457785143444, 122.2688304539941, 82.47605832050101, 106.74552748802482, 167.6168618125637, 595.984422154097, 101.72714281010029, 137.6505966774568, 61.13603882086018, 112.30156837554601, 91.15912875515257, 72.63142281724977, 64.9623172930688, 154.74087047876012, 95.91148221212816, 420.43701722160904, 146.8597000029643, 100.5068817564187, 189.12313103914758, 85.14743726382775, 168.23458199529531, 89.06039668880217, 436.8317715537039, 173.84957107718395, 145.91395415177428, 435.12915681891616, 95.6717072604473, 285.13055118020793, 190.05154458801925, 276.1124677777672, 133.32034315923624, 163.72649436085044, 143.62622933480384, 257.4533794378901, 324.9053698165584, 315.0837652434317, 299.0678757439413, 189.47755171237196, 195.18054461245404, 14.215593530707235, 10.43785240799496, 6.640341885605748, 11.387864797258185, 5.6932106226568875, 5.693196109352021, 5.693523871874323, 7.59174517785823, 14.232033961537839, 5.695921201305883, 5.69872793520907, 9.497769981777997, 5.706400323124378, 32.32605687367861, 13.339163137000375, 6.6513163518682825, 6.652350124766617, 6.6523087633314155, 8.551751512816148, 6.652631953063118, 6.654368667757944, 6.652105123992477, 9.532701938169861, 23.830491986659528, 32.37964715329788, 18.06252700044877, 6.673140164278387, 12.360399695740158, 6.661952235171764, 5.706199979765189, 17.12719085659277, 13.339972270488808, 56.2478005999201, 58.28289917806944, 30.5255454575611, 17.153160166988773, 38.20986437320184, 30.489203279922204, 22.941626154086997, 50.66802324538851, 324.9053698165584, 39.159610846065924, 44.93796904193701, 299.0678757439413, 157.6054482556395, 436.8317715537039, 34.33065451113544, 97.04038973589083, 30.63063813296312, 185.18171230886645, 105.2311816894991, 276.1124677777672, 257.4533794378901, 189.12313103914758, 435.12915681891616, 149.80134591132702, 95.05031621780543, 175.95408554227677, 67.22111682099498, 163.72649436085044, 315.0837652434317, 189.47755171237196, 285.13055118020793, 96.2058717986808, 195.18054461245404, 124.0057983144427, 177.9086576436643, 120.12695227024466, 420.43701722160904, 146.8597000029643, 107.78589719384378, 127.12049371276147, 143.62622933480384, 190.05154458801925, 10.55673880057696, 8.638314818282968, 7.67768947206089, 9.594253803775166, 5.758460119993756, 13.436990932577132, 13.449056266142367, 5.763905096299934, 14.378416437119292, 8.652277052733886, 7.660102772149424, 23.050211661381297, 7.67927287812363, 9.5850002114635, 7.657577068779629, 9.579357222464928, 5.744016705745626, 20.1936960927679, 5.758731229538511, 8.64900659510244, 8.669097988874372, 21.044144601295077, 18.257496650164555, 5.754274767094671, 5.740407446394643, 5.739060335131528, 7.6510043908887075, 16.25929373491025, 9.618921899614294, 12.504050890591456, 38.3802914978858, 101.9158452040167, 12.540277632713206, 47.167753287813774, 108.63049771529579, 49.8411971688399, 51.13789646473878, 45.24528894969439, 285.13055118020793, 190.05154458801925, 177.9086576436643, 435.12915681891616, 595.984422154097, 315.0837652434317, 189.47755171237196, 135.0708212085483, 34.64562729214406, 42.38152023043346, 420.43701722160904, 299.0678757439413, 175.95408554227677, 149.80134591132702, 257.4533794378901, 276.1124677777672, 62.616573554457666, 63.77732418588388, 185.18171230886645, 157.6054482556395, 48.90686267132076, 168.23458199529531, 127.12049371276147, 57.73249929328846, 99.00287232323245, 105.2311816894991, 156.33916746011542, 145.91395415177428, 436.8317715537039, 324.9053698165584, 106.63540222380271, 124.0057983144427, 10.54615837082454, 16.299230656774412, 22.99453955708578, 5.7527890809926046, 5.749531143355223, 13.439346125187646, 6.71136335479453, 6.706941846397783, 11.510889788395575, 26.865482354834697, 7.680906504359649, 19.169754461576233, 14.374121951053219, 7.688884120781618, 5.760913820797675, 40.262646101346, 5.739687623384041, 6.724133678587901, 10.554794852742454, 5.767081267664679, 8.627528032909701, 6.693371499960055, 10.586694250817846, 8.656009603308032, 9.562667536197115, 15.398993903137821, 5.738546072632873, 12.466539102142498, 6.692005460373469, 58.56470204110948, 26.88580821197639, 16.32956523578445, 18.157148711351475, 45.138019187955265, 12.419452901893695, 25.927164895034778, 27.84405649932605, 43.35072946347795, 38.55678451071621, 195.18054461245404, 61.55913298748847, 40.35599909083864, 58.51227489141541, 26.847335956555753, 315.0837652434317, 157.6054482556395, 324.9053698165584, 29.81914916812972, 99.00287232323245, 55.84155992618598, 77.13013513613738, 133.32034315923624, 436.8317715537039, 143.62622933480384, 435.12915681891616, 299.0678757439413, 55.680574135136766, 88.56789512502735, 257.4533794378901, 420.43701722160904, 173.84957107718395, 595.984422154097, 102.10011796328892, 185.18171230886645, 276.1124677777672, 107.78589719384378, 106.63540222380271, 105.2311816894991, 168.23458199529531, 135.0708212085483], \"Category\": [\"Default\", \"Default\", \"Default\", \"Default\", \"Default\", \"Default\", \"Default\", \"Default\", \"Default\", \"Default\", \"Default\", \"Default\", \"Default\", \"Default\", \"Default\", \"Default\", \"Default\", \"Default\", \"Default\", \"Default\", \"Default\", \"Default\", \"Default\", \"Default\", \"Default\", \"Default\", \"Default\", \"Default\", \"Default\", \"Default\", \"Topic1\", \"Topic1\", \"Topic1\", \"Topic1\", \"Topic1\", \"Topic1\", \"Topic1\", \"Topic1\", \"Topic1\", \"Topic1\", \"Topic1\", \"Topic1\", \"Topic1\", \"Topic1\", \"Topic1\", \"Topic1\", \"Topic1\", \"Topic1\", \"Topic1\", \"Topic1\", \"Topic1\", \"Topic1\", \"Topic1\", \"Topic1\", \"Topic1\", \"Topic1\", \"Topic1\", \"Topic1\", \"Topic1\", \"Topic1\", \"Topic1\", \"Topic1\", \"Topic1\", \"Topic1\", \"Topic1\", \"Topic1\", \"Topic1\", \"Topic1\", \"Topic1\", \"Topic1\", \"Topic1\", \"Topic1\", \"Topic1\", \"Topic1\", \"Topic1\", \"Topic1\", \"Topic1\", \"Topic1\", \"Topic1\", \"Topic1\", \"Topic1\", \"Topic1\", \"Topic1\", \"Topic1\", \"Topic1\", \"Topic1\", \"Topic1\", \"Topic1\", \"Topic1\", \"Topic1\", \"Topic1\", \"Topic1\", \"Topic1\", \"Topic1\", \"Topic1\", \"Topic1\", \"Topic1\", \"Topic1\", \"Topic1\", \"Topic1\", \"Topic1\", \"Topic1\", \"Topic1\", \"Topic1\", \"Topic1\", \"Topic1\", \"Topic2\", \"Topic2\", \"Topic2\", \"Topic2\", \"Topic2\", \"Topic2\", \"Topic2\", \"Topic2\", \"Topic2\", \"Topic2\", \"Topic2\", \"Topic2\", \"Topic2\", \"Topic2\", \"Topic2\", \"Topic2\", \"Topic2\", \"Topic2\", \"Topic2\", \"Topic2\", \"Topic2\", \"Topic2\", \"Topic2\", \"Topic2\", \"Topic2\", \"Topic2\", \"Topic2\", \"Topic2\", \"Topic2\", \"Topic2\", \"Topic2\", \"Topic2\", \"Topic2\", \"Topic2\", \"Topic2\", \"Topic2\", \"Topic2\", \"Topic2\", \"Topic2\", \"Topic2\", \"Topic2\", \"Topic2\", \"Topic2\", \"Topic2\", \"Topic2\", \"Topic2\", \"Topic2\", \"Topic2\", \"Topic2\", \"Topic2\", \"Topic2\", \"Topic2\", \"Topic2\", \"Topic2\", \"Topic2\", \"Topic2\", \"Topic2\", \"Topic2\", \"Topic2\", \"Topic2\", \"Topic2\", \"Topic2\", \"Topic2\", \"Topic2\", \"Topic2\", \"Topic2\", \"Topic2\", \"Topic2\", \"Topic2\", \"Topic2\", \"Topic2\", \"Topic2\", \"Topic2\", \"Topic2\", \"Topic3\", \"Topic3\", \"Topic3\", \"Topic3\", \"Topic3\", \"Topic3\", \"Topic3\", \"Topic3\", \"Topic3\", \"Topic3\", \"Topic3\", \"Topic3\", \"Topic3\", \"Topic3\", \"Topic3\", \"Topic3\", \"Topic3\", \"Topic3\", \"Topic3\", \"Topic3\", \"Topic3\", \"Topic3\", \"Topic3\", \"Topic3\", \"Topic3\", \"Topic3\", \"Topic3\", \"Topic3\", \"Topic3\", \"Topic3\", \"Topic3\", \"Topic3\", \"Topic3\", \"Topic3\", \"Topic3\", \"Topic3\", \"Topic3\", \"Topic3\", \"Topic3\", \"Topic3\", \"Topic3\", \"Topic3\", \"Topic3\", \"Topic3\", \"Topic3\", \"Topic3\", \"Topic3\", \"Topic3\", \"Topic3\", \"Topic3\", \"Topic3\", \"Topic3\", \"Topic3\", \"Topic3\", \"Topic3\", \"Topic3\", \"Topic3\", \"Topic3\", \"Topic3\", \"Topic3\", \"Topic3\", \"Topic3\", \"Topic3\", \"Topic3\", \"Topic3\", \"Topic3\", \"Topic3\", \"Topic3\", \"Topic3\", \"Topic3\", \"Topic4\", \"Topic4\", \"Topic4\", \"Topic4\", \"Topic4\", \"Topic4\", \"Topic4\", \"Topic4\", \"Topic4\", \"Topic4\", \"Topic4\", \"Topic4\", \"Topic4\", \"Topic4\", \"Topic4\", \"Topic4\", \"Topic4\", \"Topic4\", \"Topic4\", \"Topic4\", \"Topic4\", \"Topic4\", \"Topic4\", \"Topic4\", \"Topic4\", \"Topic4\", \"Topic4\", \"Topic4\", \"Topic4\", \"Topic4\", \"Topic4\", \"Topic4\", \"Topic4\", \"Topic4\", \"Topic4\", \"Topic4\", \"Topic4\", \"Topic4\", \"Topic4\", \"Topic4\", \"Topic4\", \"Topic4\", \"Topic4\", \"Topic4\", \"Topic4\", \"Topic4\", \"Topic4\", \"Topic4\", \"Topic4\", \"Topic4\", \"Topic4\", \"Topic4\", \"Topic4\", \"Topic4\", \"Topic4\", \"Topic4\", \"Topic4\", \"Topic4\", \"Topic4\", \"Topic4\", \"Topic4\", \"Topic4\", \"Topic4\", \"Topic4\", \"Topic4\", \"Topic4\", \"Topic4\", \"Topic4\", \"Topic4\", \"Topic4\"], \"logprob\": [30.0, 29.0, 28.0, 27.0, 26.0, 25.0, 24.0, 23.0, 22.0, 21.0, 20.0, 19.0, 18.0, 17.0, 16.0, 15.0, 14.0, 13.0, 12.0, 11.0, 10.0, 9.0, 8.0, 7.0, 6.0, 5.0, 4.0, 3.0, 2.0, 1.0, -5.8963, -6.9673, -7.1555, -7.1574, -7.1577, -7.1587, -6.524, -7.2762, -6.1434, -7.176, -5.4421, -6.5434, -7.5446, -7.4154, -7.5587, -7.206, -7.7204, -7.5669, -7.7212, -7.7216, -5.7418, -6.8186, -7.5899, -7.5901, -7.5918, -7.7484, -6.4986, -7.7533, -7.4651, -7.6041, -6.3332, -5.8777, -6.1331, -6.7875, -6.1772, -6.5238, -4.5633, -5.7939, -4.8092, -5.189, -4.9446, -4.5423, -3.3852, -5.0496, -4.7814, -5.5276, -5.0041, -5.1922, -5.3993, -5.498, -4.7461, -5.1688, -3.8994, -4.8278, -5.1552, -4.6281, -5.3257, -4.8111, -5.3126, -4.1041, -4.8165, -4.9513, -4.2373, -5.2805, -4.5864, -4.8511, -4.6296, -5.0818, -5.0144, -5.106, -4.9381, -4.9144, -4.9779, -5.0882, -5.1274, -5.1673, -6.1138, -6.4769, -6.936, -6.3989, -7.109, -7.1118, -7.1129, -6.8397, -6.2162, -7.1333, -7.1578, -6.6851, -7.2087, -5.4916, -6.4021, -7.1091, -7.1097, -7.1118, -6.8622, -7.1193, -7.1236, -7.1244, -6.7717, -5.8645, -5.5639, -6.1584, -7.1555, -6.5408, -7.1819, -7.3372, -6.2643, -6.5109, -5.135, -5.1085, -5.7576, -6.2721, -5.5746, -5.7798, -6.0603, -5.4037, -3.9014, -5.6365, -5.5273, -4.068, -4.5844, -3.8483, -5.7649, -5.0022, -5.8842, -4.5941, -5.0199, -4.3688, -4.4243, -4.7315, -4.2451, -4.921, -5.2011, -4.848, -5.4215, -4.9338, -4.5808, -4.8703, -4.6933, -5.2591, -4.9511, -5.1574, -5.0415, -5.2212, -4.8951, -5.2154, -5.3188, -5.2953, -5.2934, -5.3022, -6.277, -6.4984, -6.6283, -6.423, -6.9772, -6.1806, -6.1846, -7.0517, -6.1447, -6.6879, -6.8119, -5.7301, -6.8316, -6.6153, -6.8551, -6.6433, -7.1677, -5.9217, -7.179, -6.7802, -6.7968, -5.91, -6.0529, -7.2473, -7.2509, -7.2529, -6.9682, -6.2359, -6.7622, -6.5014, -5.4301, -4.5657, -6.5283, -5.3551, -4.6554, -5.3348, -5.352, -5.4791, -4.0453, -4.4076, -4.4742, -3.8678, -3.663, -4.14, -4.5231, -4.7804, -5.7472, -5.6141, -4.1226, -4.3531, -4.7422, -4.8445, -4.5371, -4.549, -5.4099, -5.4053, -4.8862, -4.9848, -5.5543, -4.9869, -5.1426, -5.4965, -5.3019, -5.2893, -5.1648, -5.1933, -4.9095, -5.0081, -5.2907, -5.3058, -6.2253, -5.8046, -5.5, -6.8956, -6.9351, -6.1014, -6.8004, -6.8193, -6.2864, -5.4823, -6.7348, -5.821, -6.1285, -6.759, -7.0732, -5.1528, -7.1047, -6.9552, -6.506, -7.1131, -6.7238, -6.9785, -6.5216, -6.7328, -6.634, -6.1691, -7.1576, -6.3837, -7.007, -4.8421, -5.6414, -6.1351, -6.0419, -5.2396, -6.4144, -5.7616, -5.7062, -5.3266, -5.4743, -4.1961, -5.1321, -5.4844, -5.1985, -5.8096, -3.994, -4.5806, -4.0833, -5.7668, -4.9545, -5.3737, -5.164, -4.8425, -4.1296, -4.8217, -4.2079, -4.4524, -5.4069, -5.1624, -4.6599, -4.4455, -4.9625, -4.5337, -5.2095, -5.0447, -5.0346, -5.2823, -5.3002, -5.328, -5.2775, -5.3526], \"loglift\": [30.0, 29.0, 28.0, 27.0, 26.0, 25.0, 24.0, 23.0, 22.0, 21.0, 20.0, 19.0, 18.0, 17.0, 16.0, 15.0, 14.0, 13.0, 12.0, 11.0, 10.0, 9.0, 8.0, 7.0, 6.0, 5.0, 4.0, 3.0, 2.0, 1.0, 0.8043, 0.804, 0.7983, 0.7964, 0.7961, 0.7952, 0.788, 0.7831, 0.7807, 0.7782, 0.7712, 0.7695, 0.7664, 0.7626, 0.7527, 0.7486, 0.7452, 0.7445, 0.7444, 0.7441, 0.7313, 0.7304, 0.7219, 0.7217, 0.72, 0.718, 0.7141, 0.7136, 0.7133, 0.7079, 0.706, 0.6925, 0.6923, 0.699, 0.6792, 0.6893, 0.6138, 0.6579, 0.6137, 0.6276, 0.6141, 0.5651, 0.4537, 0.5572, 0.523, 0.5884, 0.5038, 0.5243, 0.5444, 0.5573, 0.4413, 0.4968, 0.2884, 0.4119, 0.4637, 0.3587, 0.4591, 0.2926, 0.4272, 0.0455, 0.2544, 0.2948, -0.0839, 0.3877, -0.0102, 0.1307, -0.0213, 0.2545, 0.1165, 0.1559, -0.2599, -0.4688, -0.5017, -0.5598, -0.1426, -0.2121, 1.4609, 1.4067, 1.4, 1.3977, 1.3809, 1.378, 1.3769, 1.3623, 1.3574, 1.3561, 1.3311, 1.293, 1.2788, 1.2617, 1.2363, 1.2252, 1.2244, 1.2223, 1.2208, 1.2148, 1.2103, 1.2097, 1.2027, 1.1936, 1.1877, 1.1769, 1.1756, 1.1738, 1.1509, 1.1504, 1.1242, 1.1274, 1.0643, 1.0553, 1.0529, 1.1149, 1.0114, 1.0319, 1.0358, 0.9001, 0.5441, 0.9249, 0.8966, 0.4604, 0.5846, 0.3013, 0.9282, 0.6518, 0.923, 0.4137, 0.5531, 0.2395, 0.254, 0.2553, -0.0916, 0.2988, 0.4736, 0.2109, 0.5996, 0.1971, -0.1046, 0.1145, -0.1171, 0.4035, 0.0041, 0.2513, 0.0064, 0.2193, -0.7073, 0.0242, 0.2302, 0.0887, -0.0315, -0.3203, 1.5954, 1.5745, 1.5625, 1.5449, 1.5013, 1.4505, 1.4456, 1.4258, 1.4187, 1.3834, 1.3812, 1.3613, 1.359, 1.3536, 1.3384, 1.3262, 1.3132, 1.302, 1.2994, 1.2915, 1.2725, 1.2725, 1.2716, 1.2318, 1.2307, 1.2289, 1.2261, 1.2046, 1.2032, 1.2017, 1.1515, 1.0393, 1.1718, 1.0203, 0.8858, 0.9855, 0.9426, 0.9379, 0.5309, 0.5742, 0.5737, 0.2856, 0.1759, 0.3362, 0.4618, 0.5429, 0.9368, 0.8683, 0.0653, 0.1753, 0.3167, 0.3753, 0.1411, 0.0593, 0.6822, 0.6684, 0.1216, 0.1842, 0.7848, 0.1169, 0.2414, 0.6768, 0.3321, 0.2836, 0.0123, 0.0528, -0.7599, -0.5626, 0.269, 0.103, 1.6481, 1.6334, 1.5938, 1.5838, 1.5449, 1.5295, 1.5249, 1.5067, 1.4994, 1.456, 1.4556, 1.4548, 1.4352, 1.4304, 1.4048, 1.3809, 1.377, 1.3682, 1.3665, 1.3639, 1.3503, 1.3495, 1.3479, 1.338, 1.3372, 1.3257, 1.3243, 1.3223, 1.3212, 1.3168, 1.2961, 1.301, 1.2882, 1.1798, 1.2955, 1.2122, 1.1963, 1.1332, 1.1027, 0.7591, 0.977, 1.047, 0.9613, 1.1293, 0.4823, 0.5885, 0.3623, 1.0672, 0.6795, 0.8329, 0.7196, 0.4939, 0.02, 0.4402, -0.0545, 0.076, 0.8026, 0.583, 0.0184, -0.2577, 0.1084, -0.6948, 0.3937, -0.0369, -0.4263, 0.2667, 0.2595, 0.2449, -0.1737, -0.0293]}, \"token.table\": {\"Topic\": [1, 1, 4, 2, 3, 1, 2, 3, 4, 2, 1, 2, 3, 4, 1, 2, 3, 1, 2, 3, 4, 1, 2, 3, 4, 1, 2, 3, 4, 3, 4, 1, 2, 3, 4, 1, 3, 4, 1, 2, 4, 1, 2, 4, 1, 2, 3, 4, 1, 2, 3, 4, 2, 3, 1, 1, 2, 2, 3, 1, 2, 3, 1, 2, 3, 4, 1, 3, 3, 1, 2, 3, 4, 1, 2, 1, 2, 3, 4, 1, 2, 3, 4, 1, 2, 3, 4, 1, 2, 3, 2, 3, 4, 3, 4, 2, 4, 1, 4, 1, 2, 3, 4, 1, 2, 3, 1, 2, 3, 4, 1, 2, 3, 1, 2, 3, 4, 1, 2, 4, 1, 3, 4, 1, 2, 4, 3, 1, 1, 2, 3, 4, 1, 3, 4, 2, 1, 2, 3, 4, 1, 3, 3, 4, 1, 2, 1, 2, 3, 4, 1, 2, 3, 4, 1, 2, 3, 4, 2, 3, 4, 1, 2, 3, 4, 1, 2, 3, 1, 2, 3, 4, 1, 2, 3, 4, 1, 2, 3, 4, 1, 3, 4, 2, 3, 4, 4, 1, 2, 3, 4, 1, 2, 3, 2, 3, 1, 2, 3, 4, 2, 1, 2, 3, 4, 1, 4, 1, 2, 3, 4, 1, 2, 3, 4, 1, 1, 2, 3, 4, 1, 2, 3, 4, 1, 2, 3, 4, 1, 2, 3, 4, 1, 2, 3, 4, 2, 3, 1, 2, 3, 4, 1, 2, 3, 4, 3, 1, 2, 3, 4, 2, 3, 4, 1, 2, 3, 1, 3, 4, 1, 2, 3, 4, 1, 1, 2, 3, 4, 1, 2, 4, 1, 2, 3, 4, 1, 3, 4, 1, 2, 3, 4, 2, 3, 4, 1, 2, 3, 4, 1, 3, 4, 1, 2, 3, 4, 1, 3, 4, 1, 3, 4, 1, 4, 2, 1, 2, 3, 4, 2, 3, 2, 3, 1, 2, 3, 4, 1, 2, 3, 4, 1, 2, 3, 4, 1, 2, 1, 2, 4, 1, 2, 3, 4, 1, 2, 3, 4, 1, 3, 1, 2, 3, 4, 1, 2, 3, 4, 1, 2, 3, 4, 4, 1, 2, 3, 4, 1, 2, 3, 4, 1, 2, 3, 4, 1, 3, 4, 1, 1, 1, 2, 3, 4, 1, 3, 4, 1, 2, 4, 1, 4, 2, 4, 1, 2, 3, 4, 1, 2, 3, 4, 2, 1, 2, 3, 4, 1, 2, 4, 1, 2, 3, 4, 3, 1, 2, 3, 4, 1, 2, 3, 4, 1, 2, 4, 1, 3, 2, 4, 1, 2, 3, 2, 4, 1, 1, 2, 3, 4, 1, 2, 3, 4, 1, 2, 3, 4, 1, 2, 1, 2, 3, 2, 3, 1, 1, 2, 1, 3, 4, 1, 2, 4, 1, 3, 4, 1, 2, 3, 4, 1, 2, 3, 4, 2, 4, 1, 2, 3, 4, 2, 3, 2, 4, 1, 2, 1, 2, 3, 4, 3, 4, 1, 2, 3, 4, 1, 2, 3, 4, 1, 2, 3, 1, 2, 3, 4, 1, 2, 3, 4, 1, 1, 2, 3, 4, 1, 4, 1, 2, 3, 4, 1, 2, 4, 1, 2, 3, 4, 1, 2, 4, 1, 4, 2, 1, 2, 3, 1, 2, 3, 4, 1, 4, 2, 4, 3, 1, 4, 1, 3, 4, 2, 4, 1, 2, 3, 4, 1, 2, 4, 2, 3, 1, 2, 3, 4, 1, 2, 4, 1, 3, 1, 2, 1, 2, 3, 4, 1, 3, 3, 4, 1, 2, 3, 4, 1, 2, 3, 1, 2, 3, 4, 1, 2, 3, 4, 1, 2, 3, 4, 1, 2, 3, 4, 1, 2, 3, 4, 1, 2, 3, 4, 1, 2, 3, 4, 2, 3, 1, 4, 1, 2, 3, 4, 1, 2, 3, 4, 1, 3, 1, 2, 1, 2, 3, 4, 1, 2, 3, 4, 1, 2, 3, 4, 1, 2, 3, 4, 1, 2, 3, 4, 1, 1, 2, 3, 4, 1, 2, 3, 4, 1, 3, 1, 2, 3, 4, 1, 2, 3, 4, 1, 3, 4], \"Freq\": [0.8813356646592495, 0.1733979379841373, 0.6935917519365492, 0.7513860817820678, 0.15027721635641356, 0.06344958318813815, 0.3933874157664565, 0.22841849947729734, 0.32359287425950456, 0.8782390695509905, 0.20508517267990503, 0.22217560373656378, 0.10254258633995252, 0.4614416385297863, 0.7681820674800555, 0.06557651795561449, 0.15925725789220663, 0.12038234113186844, 0.2207009587417588, 0.5015930880494518, 0.1605097881758246, 0.5349452369871583, 0.13229828441617894, 0.13229828441617894, 0.20132347628548972, 0.36288625702721633, 0.2822448665767238, 0.20966761517128052, 0.15321864185593578, 0.6951353840233105, 0.17378384600582764, 0.5017457287284985, 0.0783977701138279, 0.3606297425236083, 0.04703866206829674, 0.07435465955462413, 0.8179012551008653, 0.07435465955462413, 0.23141751226139806, 0.1542783415075987, 0.6171133660303948, 0.05507472653868945, 0.2753736326934472, 0.6608967184642733, 0.2682839793614999, 0.10060649226056245, 0.10060649226056245, 0.5030324613028123, 0.16379723687333858, 0.6224295001186866, 0.16379723687333858, 0.03275944737466772, 0.17409420118846797, 0.6963768047538719, 0.9136548166296026, 0.1498544875998625, 0.7492724379993125, 0.7515822362152194, 0.15031644724304385, 0.04751915646590164, 0.28511493879540983, 0.665268190522623, 0.19624033887923603, 0.0686841186077326, 0.5298489149739373, 0.20605235582319784, 0.23070450957720545, 0.6921135287316164, 0.926106557620246, 0.6777082211725078, 0.08341024260584712, 0.14596792456023244, 0.08341024260584712, 0.20980410517104353, 0.7343143680986524, 0.7159435679903842, 0.15144960092104282, 0.041304436614829854, 0.09637701876793633, 0.05838669098587583, 0.70064029183051, 0.1751600729576275, 0.11677338197175166, 0.3094244798738226, 0.1326104913744954, 0.48623846837314977, 0.0884069942496636, 0.12353439125085086, 0.7103227496923925, 0.12353439125085086, 0.7197221075255422, 0.11072647808085265, 0.16608971712127898, 0.24064417360905083, 0.6417177962908022, 0.2091466625216755, 0.6274399875650265, 0.13019296608185563, 0.7811577964911337, 0.08738545893516024, 0.5534412399226816, 0.1456424315586004, 0.20389940418204058, 0.1165965909797191, 0.641281250388455, 0.17489488646957865, 0.5325518845627215, 0.1050102307588465, 0.06750657691640131, 0.2925284999710724, 0.8243041431591259, 0.12879752236861344, 0.025759504473722685, 0.341305587340333, 0.27470937517636557, 0.19978863649190223, 0.1914641099714063, 0.9251729785459291, 0.149099250135453, 0.745496250677265, 0.2597572299307767, 0.06493930748269418, 0.6493930748269419, 0.06956946681023032, 0.13913893362046065, 0.7652641349125335, 0.9472622358955654, 0.8582753382226832, 0.043488585519071615, 0.08697717103814323, 0.043488585519071615, 0.8697717103814322, 0.11562021476157237, 0.6937212885694343, 0.11562021476157237, 0.8773887886642134, 0.5922067775877533, 0.2802407072513476, 0.08460096822682191, 0.03701292359923458, 0.3189722043765121, 0.6379444087530242, 0.14900102216721883, 0.894006133003313, 0.1752418238074959, 0.7009672952299836, 0.9418589604621829, 0.24601314578699193, 0.6150328644674798, 0.06150328644674798, 0.6576827418361992, 0.140932016107757, 0.0822103427295249, 0.11744334675646415, 0.4103383503301047, 0.19289409630902357, 0.3191520502567481, 0.07365047313617264, 0.10432967949275752, 0.7303077564493027, 0.10432967949275752, 0.7687977357023075, 0.06542959452785596, 0.08178699315981995, 0.08996569247580194, 0.07442142403888682, 0.07442142403888682, 0.818635664427755, 0.18623821775430452, 0.22348586130516543, 0.0372476435508609, 0.5587146532629136, 0.4641887697937102, 0.26874086672267433, 0.14047818033230705, 0.1282626863903673, 0.3588815634647021, 0.2427728223437691, 0.2955495228532841, 0.09499806091712704, 0.07440838197669662, 0.07440838197669662, 0.8184922017436629, 0.8423029843161549, 0.10528787303951936, 0.8691436326981214, 0.8696361277699205, 0.44311446107162794, 0.42250448613806385, 0.04121994986712818, 0.0927448872010384, 0.20792350960664285, 0.10396175480332143, 0.6237705288199286, 0.2611792192277257, 0.6529480480693143, 0.8009252694183082, 0.04576715825247476, 0.04576715825247476, 0.11441789563118689, 0.9035679342062469, 0.7020690179246863, 0.03290948521521967, 0.18648708288624483, 0.0877586272405858, 0.17358357217389112, 0.6943342886955645, 0.11166745343993877, 0.07444496895995918, 0.03722248447997959, 0.7816721740795713, 0.4349500479880765, 0.2953081904761151, 0.08699000959761531, 0.18084765153188445, 0.8578953085369511, 0.3003978350544138, 0.29372232760876016, 0.27369580527179926, 0.12683464146741916, 0.5541852654643574, 0.1070314890381806, 0.19979211287127047, 0.1379516969825439, 0.3775230315714505, 0.1651663263125096, 0.4483085999910975, 0.023595189473215657, 0.4326603712244599, 0.23599656612243267, 0.23599656612243267, 0.08653207424489198, 0.25072697712294095, 0.19677307065344735, 0.26342201393929243, 0.2888120875719953, 0.7903321119759593, 0.1317220186626599, 0.558743623844405, 0.08321713546618799, 0.20804283866546996, 0.14860202761819283, 0.3264705082731696, 0.5549998640643883, 0.032647050827316955, 0.09794115248195087, 0.9117326280872649, 0.3910993877855465, 0.05866490816783198, 0.48887423473193314, 0.05866490816783198, 0.10439113781610113, 0.7307379647127079, 0.10439113781610113, 0.06954868808907232, 0.13909737617814463, 0.7650355689797954, 0.8326071674047859, 0.09795378440056304, 0.04897689220028152, 0.18238527449395736, 0.20844031370737987, 0.5992659019087171, 0.026055039213422483, 0.9000782507766194, 0.31178279513862206, 0.15589139756931103, 0.3637465943283924, 0.15589139756931103, 0.34113540884775173, 0.17868997606310805, 0.4710917550754667, 0.14222778339196723, 0.6400250252638525, 0.14222778339196723, 0.08889236461997951, 0.15994816539853332, 0.6397926615941333, 0.15994816539853332, 0.8235437351341428, 0.08235437351341428, 0.08235437351341428, 0.04117718675670714, 0.8782413083903203, 0.6945974452640932, 0.1736493613160233, 0.23321017502951433, 0.04240185000536624, 0.530023125067078, 0.19080832502414807, 0.11557651169804219, 0.6934590701882531, 0.11557651169804219, 0.29071020836905803, 0.2344437164266597, 0.24382146508372607, 0.2344437164266597, 0.9174365021125019, 0.03669746008450008, 0.03669746008450008, 0.9013560355767607, 0.07210848284614085, 0.018027120711535213, 0.88217800459883, 0.14702966743313833, 0.9144887247879295, 0.4873761591054834, 0.20887549675949288, 0.02785006623459905, 0.2785006623459905, 0.17420366225537987, 0.6968146490215195, 0.7281317935941607, 0.24271059786472024, 0.33814845701475044, 0.22030884320657984, 0.061481537639045535, 0.37913614877411417, 0.4469581658173761, 0.33262003037572174, 0.10394375949241304, 0.12473251139089565, 0.09839548683699335, 0.6231714166342913, 0.09839548683699335, 0.1967909736739867, 0.08781277419457653, 0.8781277419457653, 0.8573170261188923, 0.17422550940331727, 0.6969020376132691, 0.024836917014417727, 0.07451075104325318, 0.19869533611534182, 0.7202705934181141, 0.257754503467192, 0.16569932365748055, 0.45107038106758596, 0.11967173375262485, 0.8819582960227799, 0.14699304933712998, 0.6264482359567874, 0.22470425854971723, 0.12256595920893668, 0.02723687982420815, 0.23554127049747062, 0.6019388023824249, 0.0785137568324902, 0.0785137568324902, 0.1043310181154793, 0.1043310181154793, 0.05216550905773965, 0.7824826358660947, 0.9482125764073995, 0.11952592186136884, 0.051225395083443793, 0.1536761852503314, 0.6659301360847693, 0.2585368165734731, 0.37857176712544277, 0.10772367357228047, 0.2554589973285508, 0.23740430102492668, 0.3477471451632729, 0.22402941082633926, 0.19393590787951756, 0.08676709912173314, 0.7375203425347316, 0.17353419824346628, 0.9248655049769547, 0.9248812616152533, 0.7278504004950622, 0.13721769845398715, 0.08948980333955683, 0.03579592133582273, 0.2998796135818711, 0.13840597549932512, 0.5536239019973005, 0.9195429857963506, 0.054090763870373565, 0.054090763870373565, 0.2310533480965257, 0.6931600442895771, 0.7516417595335726, 0.15032835190671454, 0.3316308536157465, 0.21921361510193416, 0.3316308536157465, 0.118038100439503, 0.23683576408503693, 0.532880469191333, 0.0789452546950123, 0.1578905093900246, 0.8778211325770567, 0.09280439033202162, 0.7733699194335134, 0.09280439033202162, 0.06186959355468107, 0.24369700305624545, 0.17723418404090577, 0.5760110981329438, 0.27452306295052054, 0.6348345830730788, 0.06863076573763013, 0.03431538286881507, 0.833832433831607, 0.6543795198377887, 0.03355792409424557, 0.22316019522673308, 0.08892849884975078, 0.6462416793352994, 0.17448525342053084, 0.15509800304047186, 0.02584966717341198, 0.14992534912718491, 0.6746640710723321, 0.14992534912718491, 0.8230983438957875, 0.17147882164495573, 0.2988640717409671, 0.5977281434819341, 0.30512222424795143, 0.6102444484959029, 0.08717777835655754, 0.8431683083689988, 0.14052805139483313, 0.8572390120820672, 0.28620536736155006, 0.3294061775293312, 0.21060394956793307, 0.17280324067112457, 0.7524203544620948, 0.032713928454873684, 0.13085571381949473, 0.08178482113718422, 0.3185042673707931, 0.2835464819276573, 0.2175151094239563, 0.18255732398082047, 0.9203302419769287, 0.054137073057466394, 0.1980816182250334, 0.0990408091125167, 0.6932856637876169, 0.3484891050468742, 0.6969782100937484, 0.9248645611527085, 0.8312317924507958, 0.16624635849015915, 0.9391318185255416, 0.029347869328923176, 0.029347869328923176, 0.8820479728047311, 0.32207537897181343, 0.6441507579436269, 0.1224772350715878, 0.18371585260738169, 0.6736247928937329, 0.14254330094153864, 0.3801154691774364, 0.24707505496533363, 0.22806928150646183, 0.17875560682961278, 0.5618033357502116, 0.051073030522746504, 0.20429212209098602, 0.7517308958843244, 0.15034617917686488, 0.8649263469465539, 0.023376387755312266, 0.023376387755312266, 0.09350555102124906, 0.7516187504044904, 0.1503237500808981, 0.17426016753076184, 0.6970406701230474, 0.8372155894849036, 0.12880239838229285, 0.40165949744481433, 0.40165949744481433, 0.05950511073256509, 0.13388649914827144, 0.061352589030597725, 0.9202888354589659, 0.2334746040593798, 0.1975554342040906, 0.179595849276446, 0.3951108684081812, 0.4220008399296873, 0.08143875858292211, 0.32575503433168845, 0.1702810406733826, 0.8572595871390126, 0.13054655136427107, 0.7832793081856264, 0.33666379317111156, 0.3471845367077088, 0.1998941271953475, 0.10520743536597237, 0.6856538257997025, 0.14247352224409401, 0.12466433196358226, 0.04452297570127938, 0.8816604743235178, 0.3760639929786846, 0.16117028270515055, 0.07163123675784469, 0.411879611357607, 0.14871804276948947, 0.7435902138474474, 0.40563180975277324, 0.2788718692050316, 0.1991941922893083, 0.11589480278650663, 0.20981522340365588, 0.7133717595724299, 0.04196304468073118, 0.11158303207205199, 0.03719434402401733, 0.18597172012008664, 0.6694981924323119, 0.9248946888597538, 0.701610657303133, 0.11693510955052218, 0.881960551024689, 0.14699342517078148, 0.8781907501432829, 0.15010614977401096, 0.7505307488700549, 0.15010614977401096, 0.288636713536069, 0.1154546854144276, 0.4906824130113173, 0.1154546854144276, 0.13005788412094632, 0.7803473047256779, 0.2988030770459903, 0.7470076926149758, 0.8682876838270822, 0.925648029222786, 0.10284978102475399, 0.09474366995775099, 0.18948733991550198, 0.663205689704257, 0.7009919060293083, 0.17524797650732707, 0.4360496245206782, 0.27832954756639033, 0.055665909513278065, 0.2319412896386586, 0.08687425719322982, 0.08687425719322982, 0.7818683147390684, 0.26140358805462516, 0.653508970136563, 0.2447818678617759, 0.5340695298802383, 0.13351738247005956, 0.11126448539171631, 0.38903659084514686, 0.07780731816902937, 0.5446512271832056, 0.8328978505866775, 0.1469819736329431, 0.2249016650586238, 0.7496722168620794, 0.3194042545717707, 0.06388085091435414, 0.36731489275753626, 0.239553190928828, 0.8912278845003189, 0.1371119822308183, 0.231816111448262, 0.695448334344786, 0.1795715362135191, 0.1436572289708153, 0.07182861448540764, 0.5746289158832611, 0.21908808620616388, 0.10954404310308194, 0.6572642586184916, 0.24536433834748642, 0.32715245112998187, 0.40894056391247735, 0.020447028195623867, 0.3613047363813606, 0.16936159517876279, 0.14678004915492776, 0.3161416443336905, 0.4537785385468828, 0.15558121321607413, 0.02593020220267902, 0.36302283083750625, 0.4735557408654365, 0.15785191362181217, 0.33148901860580554, 0.03683211317842284, 0.3814959245975851, 0.19994063518066205, 0.2505003360309444, 0.16776628009411873, 0.7759827676450872, 0.07274838446672693, 0.012124730744454488, 0.12124730744454489, 0.6400151146774173, 0.08982668276174278, 0.15719669483304988, 0.11228335345217848, 0.7516140771642584, 0.15032281543285167, 0.28337457651317766, 0.6612073451974146, 0.6166922456958374, 0.1881433969919504, 0.10452410943997244, 0.10452410943997244, 0.22301517005542612, 0.12389731669745895, 0.17345624337644253, 0.5203687301293276, 0.9004344374745573, 0.1286334910677939, 0.09580514850296615, 0.8622463365266954, 0.6566714522091421, 0.2487391864428569, 0.0795965396617142, 0.01989913491542855, 0.7234963584806525, 0.07696769771070772, 0.07696769771070772, 0.12314831633713234, 0.7274361390267287, 0.1277928352344253, 0.009830218094955793, 0.1376230533293811, 0.24241720908503434, 0.1414100386329367, 0.26261864317545386, 0.3535250965823417, 0.4309495510653633, 0.2056804675539234, 0.10773738776634083, 0.26444631542647296, 0.8817165940577633, 0.5551216843575276, 0.1302137284295435, 0.19874726970825063, 0.1165070201738021, 0.7675619740690629, 0.019189049351726575, 0.19189049351726573, 0.02558539913563543, 0.17349348805932585, 0.6939739522373034, 0.3637312529729389, 0.27279843972970413, 0.25574853724659763, 0.10798271572634123, 0.6974179721497861, 0.06538293488904244, 0.13076586977808488, 0.10170678760517714, 0.1302206622776429, 0.7813239736658574, 0.1302206622776429], \"Term\": [\"acted\", \"afternoon\", \"afternoon\", \"alone\", \"alone\", \"always\", \"always\", \"always\", \"always\", \"answer\", \"area\", \"area\", \"area\", \"area\", \"asked\", \"asked\", \"asked\", \"away\", \"away\", \"away\", \"away\", \"back\", \"back\", \"back\", \"back\", \"bad\", \"bad\", \"bad\", \"bad\", \"badly\", \"badly\", \"bag\", \"bag\", \"bag\", \"bag\", \"barely\", \"barely\", \"barely\", \"bathroom\", \"bathroom\", \"bathroom\", \"best\", \"best\", \"best\", \"big\", \"big\", \"big\", \"big\", \"big_mac\", \"big_mac\", \"big_mac\", \"big_mac\", \"bitch\", \"bitch\", \"bothered\", \"bought\", \"bought\", \"branch\", \"branch\", \"bun\", \"bun\", \"bun\", \"burger\", \"burger\", \"burger\", \"burger\", \"calling\", \"calling\", \"cant\", \"car\", \"car\", \"car\", \"car\", \"card\", \"card\", \"cashier\", \"cashier\", \"cashier\", \"cashier\", \"cause\", \"cause\", \"cause\", \"cause\", \"check\", \"check\", \"check\", \"check\", \"cheeseburger\", \"cheeseburger\", \"cheeseburger\", \"chicken_sandwich\", \"chicken_sandwich\", \"chicken_sandwich\", \"chocolate\", \"chocolate\", \"city\", \"city\", \"cleaning\", \"cleaning\", \"close\", \"close\", \"close\", \"close\", \"closed\", \"closed\", \"closed\", \"coffee\", \"coffee\", \"coffee\", \"coffee\", \"coke\", \"coke\", \"coke\", \"come\", \"come\", \"come\", \"come\", \"complained\", \"consistent\", \"consistent\", \"consistently\", \"consistently\", \"consistently\", \"cook\", \"cook\", \"cook\", \"costumer\", \"cover\", \"crap\", \"crap\", \"crap\", \"crap\", \"credit_card\", \"credit_card\", \"credit_card\", \"crowded\", \"customer\", \"customer\", \"customer\", \"customer\", \"damn\", \"damn\", \"dead\", \"dead\", \"denied\", \"denied\", \"diet\", \"done\", \"done\", \"done\", \"drink\", \"drink\", \"drink\", \"drink\", \"drive\", \"drive\", \"drive\", \"drive\", \"easy\", \"easy\", \"easy\", \"employee\", \"employee\", \"employee\", \"employee\", \"english\", \"english\", \"english\", \"enough\", \"enough\", \"enough\", \"enough\", \"even\", \"even\", \"even\", \"even\", \"ever\", \"ever\", \"ever\", \"ever\", \"everytime\", \"everytime\", \"everytime\", \"everywhere\", \"everywhere\", \"exit\", \"failed\", \"fast\", \"fast\", \"fast\", \"fast\", \"faster\", \"faster\", \"faster\", \"filet\", \"filet\", \"finally\", \"finally\", \"finally\", \"finally\", \"fired\", \"first\", \"first\", \"first\", \"first\", \"flavor\", \"flavor\", \"floor\", \"floor\", \"floor\", \"floor\", \"food\", \"food\", \"food\", \"food\", \"frustrated\", \"fry\", \"fry\", \"fry\", \"fry\", \"get\", \"get\", \"get\", \"get\", \"girl\", \"girl\", \"girl\", \"girl\", \"give\", \"give\", \"give\", \"give\", \"go\", \"go\", \"go\", \"go\", \"god\", \"god\", \"got\", \"got\", \"got\", \"got\", \"grab\", \"grab\", \"grab\", \"grab\", \"greasy\", \"guy\", \"guy\", \"guy\", \"guy\", \"hair\", \"hair\", \"hair\", \"hamburger\", \"hamburger\", \"hamburger\", \"handed\", \"handed\", \"handed\", \"hard\", \"hard\", \"hard\", \"hard\", \"hardly\", \"home\", \"home\", \"home\", \"home\", \"hot\", \"hot\", \"hot\", \"hour\", \"hour\", \"hour\", \"hour\", \"husband\", \"husband\", \"husband\", \"iced\", \"iced\", \"iced\", \"iced\", \"inconvenient\", \"individual\", \"individual\", \"job\", \"job\", \"job\", \"job\", \"juice\", \"juice\", \"juice\", \"know\", \"know\", \"know\", \"know\", \"lane\", \"lane\", \"lane\", \"large\", \"large\", \"large\", \"learned\", \"learned\", \"light\", \"line\", \"line\", \"line\", \"line\", \"lobby\", \"lobby\", \"local\", \"local\", \"location\", \"location\", \"location\", \"location\", \"long\", \"long\", \"long\", \"long\", \"lot\", \"lot\", \"lot\", \"lot\", \"love\", \"love\", \"lying\", \"macdonalds\", \"macdonalds\", \"machine\", \"machine\", \"machine\", \"machine\", \"make\", \"make\", \"make\", \"make\", \"male\", \"male\", \"manager\", \"manager\", \"manager\", \"manager\", \"many\", \"many\", \"many\", \"many\", \"mayo\", \"mayo\", \"mayo\", \"mayo\", \"mcchicken\", \"mcd\", \"mcd\", \"mcd\", \"mcd\", \"mcdonald\", \"mcdonald\", \"mcdonald\", \"mcdonald\", \"mcdonalds\", \"mcdonalds\", \"mcdonalds\", \"mcdonalds\", \"mcflurry\", \"mcflurry\", \"mcflurry\", \"melted\", \"milk\", \"minute\", \"minute\", \"minute\", \"minute\", \"missing\", \"missing\", \"missing\", \"mocha\", \"mocha\", \"mocha\", \"mustard\", \"mustard\", \"nearly\", \"nearly\", \"never\", \"never\", \"never\", \"never\", \"night\", \"night\", \"night\", \"night\", \"nightmare\", \"often\", \"often\", \"often\", \"often\", \"old\", \"old\", \"old\", \"open\", \"open\", \"open\", \"open\", \"orange\", \"order\", \"order\", \"order\", \"order\", \"ordered\", \"ordered\", \"ordered\", \"ordered\", \"packet\", \"packet\", \"packet\", \"paid\", \"paid\", \"paper\", \"paper\", \"park\", \"park\", \"park\", \"parking\", \"parking\", \"payment\", \"people\", \"people\", \"people\", \"people\", \"person\", \"person\", \"person\", \"person\", \"place\", \"place\", \"place\", \"place\", \"placed\", \"placed\", \"please\", \"please\", \"please\", \"post\", \"post\", \"prepared\", \"pull\", \"pull\", \"pulled\", \"pulled\", \"pulled\", \"putting\", \"quickly\", \"quickly\", \"real\", \"real\", \"real\", \"really\", \"really\", \"really\", \"really\", \"reason\", \"reason\", \"reason\", \"reason\", \"reasonable\", \"reasonable\", \"receipt\", \"receipt\", \"receipt\", \"receipt\", \"recently\", \"recently\", \"red\", \"red\", \"refund\", \"refund\", \"restaurant\", \"restaurant\", \"restaurant\", \"restaurant\", \"restroom\", \"restroom\", \"review\", \"review\", \"review\", \"review\", \"right\", \"right\", \"right\", \"right\", \"risk\", \"rock\", \"rock\", \"rude\", \"rude\", \"rude\", \"rude\", \"said\", \"said\", \"said\", \"said\", \"salt\", \"sandwich\", \"sandwich\", \"sandwich\", \"sandwich\", \"sell\", \"sell\", \"service\", \"service\", \"service\", \"service\", \"several\", \"several\", \"several\", \"shake\", \"shake\", \"shake\", \"shake\", \"shift\", \"shitty\", \"shitty\", \"showed\", \"showed\", \"slowly\", \"smart\", \"smart\", \"smart\", \"soda\", \"soda\", \"soda\", \"soda\", \"somebody\", \"somebody\", \"somehow\", \"somehow\", \"somewhere\", \"sort\", \"sort\", \"spanish\", \"spanish\", \"spanish\", \"square\", \"square\", \"staff\", \"staff\", \"staff\", \"staff\", \"station\", \"station\", \"station\", \"stomach\", \"stomach\", \"stop\", \"stop\", \"stop\", \"stop\", \"stopped\", \"stopped\", \"stopped\", \"straw\", \"straw\", \"supposed\", \"supposed\", \"sure\", \"sure\", \"sure\", \"sure\", \"syrup\", \"syrup\", \"system\", \"system\", \"table\", \"table\", \"table\", \"table\", \"tea\", \"tea\", \"tea\", \"terrible\", \"terrible\", \"terrible\", \"terrible\", \"thing\", \"thing\", \"thing\", \"thing\", \"think\", \"think\", \"think\", \"think\", \"thru\", \"thru\", \"thru\", \"thru\", \"time\", \"time\", \"time\", \"time\", \"told\", \"told\", \"told\", \"told\", \"took\", \"took\", \"took\", \"took\", \"travel\", \"travel\", \"trip\", \"trip\", \"u\", \"u\", \"u\", \"u\", \"use\", \"use\", \"use\", \"use\", \"using\", \"using\", \"visited\", \"visited\", \"wait\", \"wait\", \"wait\", \"wait\", \"waited\", \"waited\", \"waited\", \"waited\", \"waiting\", \"waiting\", \"waiting\", \"waiting\", \"want\", \"want\", \"want\", \"want\", \"way\", \"way\", \"way\", \"way\", \"website\", \"went\", \"went\", \"went\", \"went\", \"window\", \"window\", \"window\", \"window\", \"wont\", \"wont\", \"worst\", \"worst\", \"worst\", \"worst\", \"wrong\", \"wrong\", \"wrong\", \"wrong\", \"yeah\", \"yeah\", \"yeah\"]}, \"R\": 30, \"lambda.step\": 0.01, \"plot.opts\": {\"xlab\": \"PC1\", \"ylab\": \"PC2\"}, \"topic.order\": [4, 2, 3, 1]};\n",
              "\n",
              "function LDAvis_load_lib(url, callback){\n",
              "  var s = document.createElement('script');\n",
              "  s.src = url;\n",
              "  s.async = true;\n",
              "  s.onreadystatechange = s.onload = callback;\n",
              "  s.onerror = function(){console.warn(\"failed to load library \" + url);};\n",
              "  document.getElementsByTagName(\"head\")[0].appendChild(s);\n",
              "}\n",
              "\n",
              "if(typeof(LDAvis) !== \"undefined\"){\n",
              "   // already loaded: just create the visualization\n",
              "   !function(LDAvis){\n",
              "       new LDAvis(\"#\" + \"ldavis_el19201324562028548969000154594\", ldavis_el19201324562028548969000154594_data);\n",
              "   }(LDAvis);\n",
              "}else if(typeof define === \"function\" && define.amd){\n",
              "   // require.js is available: use it to load d3/LDAvis\n",
              "   require.config({paths: {d3: \"https://d3js.org/d3.v5\"}});\n",
              "   require([\"d3\"], function(d3){\n",
              "      window.d3 = d3;\n",
              "      LDAvis_load_lib(\"https://cdn.jsdelivr.net/gh/bmabey/pyLDAvis@3.4.0/pyLDAvis/js/ldavis.v3.0.0.js\", function(){\n",
              "        new LDAvis(\"#\" + \"ldavis_el19201324562028548969000154594\", ldavis_el19201324562028548969000154594_data);\n",
              "      });\n",
              "    });\n",
              "}else{\n",
              "    // require.js not available: dynamically load d3 & LDAvis\n",
              "    LDAvis_load_lib(\"https://d3js.org/d3.v5.js\", function(){\n",
              "         LDAvis_load_lib(\"https://cdn.jsdelivr.net/gh/bmabey/pyLDAvis@3.4.0/pyLDAvis/js/ldavis.v3.0.0.js\", function(){\n",
              "                 new LDAvis(\"#\" + \"ldavis_el19201324562028548969000154594\", ldavis_el19201324562028548969000154594_data);\n",
              "            })\n",
              "         });\n",
              "}\n",
              "</script>"
            ],
            "text/plain": [
              "PreparedData(topic_coordinates=              x         y  topics  cluster       Freq\n",
              "topic                                                \n",
              "3     -0.064471 -0.052161       1        1  41.523372\n",
              "1     -0.054384  0.072065       2        1  21.881279\n",
              "2      0.046037 -0.078282       3        1  18.759085\n",
              "0      0.072818  0.058378       4        1  17.836264, topic_info=         Term        Freq       Total Category  logprob  loglift\n",
              "11      order  595.000000  595.000000  Default  30.0000  30.0000\n",
              "89   mcdonald  324.000000  324.000000  Default  29.0000  29.0000\n",
              "107        go  315.000000  315.000000  Default  28.0000  28.0000\n",
              "82     always  157.000000  157.000000  Default  27.0000  27.0000\n",
              "113  location  195.000000  195.000000  Default  26.0000  26.0000\n",
              "..        ...         ...         ...      ...      ...      ...\n",
              "14      staff   25.099840  107.785897   Topic4  -5.2823   0.2667\n",
              "111      know   24.655333  106.635402   Topic4  -5.3002   0.2595\n",
              "305    really   23.978459  105.231182   Topic4  -5.3280   0.2449\n",
              "475       got   25.221348  168.234582   Topic4  -5.2775  -0.1737\n",
              "229     right   23.396326  135.070821   Topic4  -5.3526  -0.0293\n",
              "\n",
              "[320 rows x 6 columns], token_table=      Topic      Freq       Term\n",
              "term                            \n",
              "50        1  0.881336      acted\n",
              "820       1  0.173398  afternoon\n",
              "820       4  0.693592  afternoon\n",
              "516       2  0.751386      alone\n",
              "516       3  0.150277      alone\n",
              "...     ...       ...        ...\n",
              "338       3  0.130766      wrong\n",
              "338       4  0.101707      wrong\n",
              "1005      1  0.130221       yeah\n",
              "1005      3  0.781324       yeah\n",
              "1005      4  0.130221       yeah\n",
              "\n",
              "[667 rows x 3 columns], R=30, lambda_step=0.01, plot_opts={'xlab': 'PC1', 'ylab': 'PC2'}, topic_order=[4, 2, 3, 1])"
            ]
          },
          "execution_count": 152,
          "metadata": {},
          "output_type": "execute_result"
        }
      ],
      "source": [
        "# Visualization of the topic categories \n",
        "#pip install pyLDAvis\n",
        "import pyLDAvis\n",
        "import pyLDAvis.gensim\n",
        "pyLDAvis.enable_notebook()\n",
        "vis = pyLDAvis.gensim.prepare(lda_model, corpus, dictionary, mds=\"mmds\", R=30)\n",
        "vis"
      ]
    },
    {
      "cell_type": "code",
      "execution_count": 145,
      "metadata": {
        "id": "AeX3OrH1Uu8h"
      },
      "outputs": [],
      "source": [
        "negative_reviews.to_csv('reviews.csv',index=False)"
      ]
    },
    {
      "cell_type": "markdown",
      "metadata": {},
      "source": [
        "<p style=\"font-size: 20px; color: black;\">\n",
        "From the 4 segments the model identified, they have the following issues:\n",
        "<ol style=\"font-size: 20px; color: black;\">\n",
        "<li>Bad service and high price: workers there are rude to customers and some items have much higher prices than other McDonald's</li>\n",
        "<li>Wait time is long: for both drive-thru and the counter, customers have to wait a long time to get their orders </li>\n",
        "<li>Mess up orders: the workers often give wrong and missing orders and sometimes the food is overcooked</li>\n",
        "<li>Overall dirty and hostile environment: the restaurant is in a dangerous neighborhood with a homeless population. It is often times dirty and the managers often yell at customers and workers.</li>\n",
        "</ol>\n",
        "</p>"
      ]
    },
    {
      "cell_type": "markdown",
      "metadata": {},
      "source": [
        "### LLM Appraoch: Prompting using LLama 3"
      ]
    },
    {
      "cell_type": "code",
      "execution_count": null,
      "metadata": {},
      "outputs": [],
      "source": [
        "# Combine all reviews\n",
        "reviews = \"\\n\".join(data['review'])"
      ]
    },
    {
      "cell_type": "code",
      "execution_count": 7,
      "metadata": {},
      "outputs": [
        {
          "name": "stdout",
          "output_type": "stream",
          "text": [
            "What a treasure trove of frustration! Here are the main issues that stood out to me:\n",
            "\n",
            "1. **Unprofessional staff**: Multiple reviewers mentioned seeing employees goofing off, bickering with each other, and being generally unprofessional.\n",
            "2. **Order errors**: A significant number of reviewers experienced mistakes with their orders, such as incorrect items or missing parts.\n",
            "3. **Rude management**: Some reviewers were dealt with poorly by managers who argued with them about order issues or refused to help with problems.\n",
            "4. **Dirty environment**: One reviewer mentioned that the restaurant was dirty, with food barely warm and slow service.\n",
            "5. **Safety concerns**: A few reviewers expressed concerns about safety, citing instances of loitering homeless individuals, gangs, and aggressive panhandling in the area.\n",
            "\n",
            "Overall, it seems like this McDonald's location has some significant issues with staff behavior, order fulfillment, and customer satisfaction.\n"
          ]
        }
      ],
      "source": [
        "# Use llama3 for privacy reasons\n",
        "import ollama\n",
        "response = ollama.chat(\n",
        "    model=\"llama3\",\n",
        "    messages=[\n",
        "        {\"role\": \"user\",\n",
        "        \"content\": \"Read the following reviews of a resturant, and tell me what the main issues of the resturant customers are complaining about\"+reviews,\n",
        "        },\n",
        "    ],\n",
        ")\n",
        "print(response[\"message\"][\"content\"])"
      ]
    },
    {
      "cell_type": "markdown",
      "metadata": {},
      "source": [
        "<p style=\"font-size: 20px; color: black;\">\n",
        "The LLM has identified similar issues to our traditional approach. Below is a comparison for both models:</p>\n",
        "\n",
        "<table style=\"font-size: 16px; color: black;\" border=\"1\" cellpadding=\"5\" cellspacing=\"5\">\n",
        "    <tr>\n",
        "        <th></th> \n",
        "        <th>Pro</th>\n",
        "        <th>Con</th>\n",
        "    </tr>\n",
        "    <tr>\n",
        "        <th>Traditional Approach</th>\n",
        "        <td>Have more control over the data cleaning and modeling</td>\n",
        "        <td>More technically challenging</td>\n",
        "    </tr>\n",
        "    <tr>\n",
        "        <th>LLM</th>\n",
        "        <td>Very easy to implement, user-friendly</td>\n",
        "        <td>Might be computationally expensive on a large scale</td>\n",
        "    </tr>\n",
        "</table>"
      ]
    }
  ],
  "metadata": {
    "colab": {
      "provenance": []
    },
    "kernelspec": {
      "display_name": "Python 3",
      "name": "python3"
    },
    "language_info": {
      "codemirror_mode": {
        "name": "ipython",
        "version": 3
      },
      "file_extension": ".py",
      "mimetype": "text/x-python",
      "name": "python",
      "nbconvert_exporter": "python",
      "pygments_lexer": "ipython3",
      "version": "3.11.2"
    }
  },
  "nbformat": 4,
  "nbformat_minor": 0
}
